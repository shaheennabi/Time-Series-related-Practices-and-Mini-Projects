{
  "cells": [
    {
      "cell_type": "code",
      "execution_count": 1,
      "metadata": {
        "id": "zrY1z9eG-GfV",
        "colab": {
          "base_uri": "https://localhost:8080/"
        },
        "outputId": "41f221b5-36d6-4592-f5e3-127020c735c4"
      },
      "outputs": [
        {
          "output_type": "stream",
          "name": "stderr",
          "text": [
            "/tmp/ipython-input-3688346507.py:6: FutureWarning: YF.download() has changed argument auto_adjust default to True\n",
            "  stock_data = yf.download('AAPL', start='2023-01-01')\n",
            "[*********************100%***********************]  1 of 1 completed\n"
          ]
        }
      ],
      "source": [
        "import yfinance as yf\n",
        "import numpy as np\n",
        "import matplotlib.pyplot as plt\n",
        "import pandas as pd\n",
        "import yfinance as yf\n",
        "stock_data = yf.download('AAPL', start='2023-01-01')\n"
      ]
    },
    {
      "cell_type": "code",
      "execution_count": 2,
      "metadata": {
        "colab": {
          "base_uri": "https://localhost:8080/",
          "height": 425
        },
        "id": "6MGKAiDn_bql",
        "outputId": "75371f54-2210-4061-b269-e70b75f6c933"
      },
      "outputs": [
        {
          "output_type": "execute_result",
          "data": {
            "text/plain": [
              "Price            Close        High         Low        Open     Volume\n",
              "Ticker            AAPL        AAPL        AAPL        AAPL       AAPL\n",
              "Date                                                                 \n",
              "2023-01-03  123.470604  129.226044  122.582112  128.613978  112117500\n",
              "2023-01-04  124.744118  127.014709  123.480487  125.267339   89113600\n",
              "2023-01-05  123.421242  126.136075  123.164572  125.504260   80962700\n",
              "2023-01-06  127.962410  128.623840  123.292902  124.398582   87754700\n",
              "2023-01-09  128.485641  131.703962  128.228972  128.801557   70790800\n",
              "2023-01-10  129.058212  129.581433  126.481589  128.594221   63896200\n",
              "2023-01-11  131.782944  131.802677  128.791692  129.571583   69458900\n",
              "2023-01-12  131.703979  132.543101  129.759170  132.167970   71379600\n",
              "2023-01-13  133.036682  133.194640  129.976334  130.341598   57809700\n",
              "2023-01-17  134.201599  135.534326  132.414748  133.105793   63646600"
            ],
            "text/html": [
              "\n",
              "  <div id=\"df-88348125-ef7c-4528-9402-065c95c41ecb\" class=\"colab-df-container\">\n",
              "    <div>\n",
              "<style scoped>\n",
              "    .dataframe tbody tr th:only-of-type {\n",
              "        vertical-align: middle;\n",
              "    }\n",
              "\n",
              "    .dataframe tbody tr th {\n",
              "        vertical-align: top;\n",
              "    }\n",
              "\n",
              "    .dataframe thead tr th {\n",
              "        text-align: left;\n",
              "    }\n",
              "\n",
              "    .dataframe thead tr:last-of-type th {\n",
              "        text-align: right;\n",
              "    }\n",
              "</style>\n",
              "<table border=\"1\" class=\"dataframe\">\n",
              "  <thead>\n",
              "    <tr>\n",
              "      <th>Price</th>\n",
              "      <th>Close</th>\n",
              "      <th>High</th>\n",
              "      <th>Low</th>\n",
              "      <th>Open</th>\n",
              "      <th>Volume</th>\n",
              "    </tr>\n",
              "    <tr>\n",
              "      <th>Ticker</th>\n",
              "      <th>AAPL</th>\n",
              "      <th>AAPL</th>\n",
              "      <th>AAPL</th>\n",
              "      <th>AAPL</th>\n",
              "      <th>AAPL</th>\n",
              "    </tr>\n",
              "    <tr>\n",
              "      <th>Date</th>\n",
              "      <th></th>\n",
              "      <th></th>\n",
              "      <th></th>\n",
              "      <th></th>\n",
              "      <th></th>\n",
              "    </tr>\n",
              "  </thead>\n",
              "  <tbody>\n",
              "    <tr>\n",
              "      <th>2023-01-03</th>\n",
              "      <td>123.470604</td>\n",
              "      <td>129.226044</td>\n",
              "      <td>122.582112</td>\n",
              "      <td>128.613978</td>\n",
              "      <td>112117500</td>\n",
              "    </tr>\n",
              "    <tr>\n",
              "      <th>2023-01-04</th>\n",
              "      <td>124.744118</td>\n",
              "      <td>127.014709</td>\n",
              "      <td>123.480487</td>\n",
              "      <td>125.267339</td>\n",
              "      <td>89113600</td>\n",
              "    </tr>\n",
              "    <tr>\n",
              "      <th>2023-01-05</th>\n",
              "      <td>123.421242</td>\n",
              "      <td>126.136075</td>\n",
              "      <td>123.164572</td>\n",
              "      <td>125.504260</td>\n",
              "      <td>80962700</td>\n",
              "    </tr>\n",
              "    <tr>\n",
              "      <th>2023-01-06</th>\n",
              "      <td>127.962410</td>\n",
              "      <td>128.623840</td>\n",
              "      <td>123.292902</td>\n",
              "      <td>124.398582</td>\n",
              "      <td>87754700</td>\n",
              "    </tr>\n",
              "    <tr>\n",
              "      <th>2023-01-09</th>\n",
              "      <td>128.485641</td>\n",
              "      <td>131.703962</td>\n",
              "      <td>128.228972</td>\n",
              "      <td>128.801557</td>\n",
              "      <td>70790800</td>\n",
              "    </tr>\n",
              "    <tr>\n",
              "      <th>2023-01-10</th>\n",
              "      <td>129.058212</td>\n",
              "      <td>129.581433</td>\n",
              "      <td>126.481589</td>\n",
              "      <td>128.594221</td>\n",
              "      <td>63896200</td>\n",
              "    </tr>\n",
              "    <tr>\n",
              "      <th>2023-01-11</th>\n",
              "      <td>131.782944</td>\n",
              "      <td>131.802677</td>\n",
              "      <td>128.791692</td>\n",
              "      <td>129.571583</td>\n",
              "      <td>69458900</td>\n",
              "    </tr>\n",
              "    <tr>\n",
              "      <th>2023-01-12</th>\n",
              "      <td>131.703979</td>\n",
              "      <td>132.543101</td>\n",
              "      <td>129.759170</td>\n",
              "      <td>132.167970</td>\n",
              "      <td>71379600</td>\n",
              "    </tr>\n",
              "    <tr>\n",
              "      <th>2023-01-13</th>\n",
              "      <td>133.036682</td>\n",
              "      <td>133.194640</td>\n",
              "      <td>129.976334</td>\n",
              "      <td>130.341598</td>\n",
              "      <td>57809700</td>\n",
              "    </tr>\n",
              "    <tr>\n",
              "      <th>2023-01-17</th>\n",
              "      <td>134.201599</td>\n",
              "      <td>135.534326</td>\n",
              "      <td>132.414748</td>\n",
              "      <td>133.105793</td>\n",
              "      <td>63646600</td>\n",
              "    </tr>\n",
              "  </tbody>\n",
              "</table>\n",
              "</div>\n",
              "    <div class=\"colab-df-buttons\">\n",
              "\n",
              "  <div class=\"colab-df-container\">\n",
              "    <button class=\"colab-df-convert\" onclick=\"convertToInteractive('df-88348125-ef7c-4528-9402-065c95c41ecb')\"\n",
              "            title=\"Convert this dataframe to an interactive table.\"\n",
              "            style=\"display:none;\">\n",
              "\n",
              "  <svg xmlns=\"http://www.w3.org/2000/svg\" height=\"24px\" viewBox=\"0 -960 960 960\">\n",
              "    <path d=\"M120-120v-720h720v720H120Zm60-500h600v-160H180v160Zm220 220h160v-160H400v160Zm0 220h160v-160H400v160ZM180-400h160v-160H180v160Zm440 0h160v-160H620v160ZM180-180h160v-160H180v160Zm440 0h160v-160H620v160Z\"/>\n",
              "  </svg>\n",
              "    </button>\n",
              "\n",
              "  <style>\n",
              "    .colab-df-container {\n",
              "      display:flex;\n",
              "      gap: 12px;\n",
              "    }\n",
              "\n",
              "    .colab-df-convert {\n",
              "      background-color: #E8F0FE;\n",
              "      border: none;\n",
              "      border-radius: 50%;\n",
              "      cursor: pointer;\n",
              "      display: none;\n",
              "      fill: #1967D2;\n",
              "      height: 32px;\n",
              "      padding: 0 0 0 0;\n",
              "      width: 32px;\n",
              "    }\n",
              "\n",
              "    .colab-df-convert:hover {\n",
              "      background-color: #E2EBFA;\n",
              "      box-shadow: 0px 1px 2px rgba(60, 64, 67, 0.3), 0px 1px 3px 1px rgba(60, 64, 67, 0.15);\n",
              "      fill: #174EA6;\n",
              "    }\n",
              "\n",
              "    .colab-df-buttons div {\n",
              "      margin-bottom: 4px;\n",
              "    }\n",
              "\n",
              "    [theme=dark] .colab-df-convert {\n",
              "      background-color: #3B4455;\n",
              "      fill: #D2E3FC;\n",
              "    }\n",
              "\n",
              "    [theme=dark] .colab-df-convert:hover {\n",
              "      background-color: #434B5C;\n",
              "      box-shadow: 0px 1px 3px 1px rgba(0, 0, 0, 0.15);\n",
              "      filter: drop-shadow(0px 1px 2px rgba(0, 0, 0, 0.3));\n",
              "      fill: #FFFFFF;\n",
              "    }\n",
              "  </style>\n",
              "\n",
              "    <script>\n",
              "      const buttonEl =\n",
              "        document.querySelector('#df-88348125-ef7c-4528-9402-065c95c41ecb button.colab-df-convert');\n",
              "      buttonEl.style.display =\n",
              "        google.colab.kernel.accessAllowed ? 'block' : 'none';\n",
              "\n",
              "      async function convertToInteractive(key) {\n",
              "        const element = document.querySelector('#df-88348125-ef7c-4528-9402-065c95c41ecb');\n",
              "        const dataTable =\n",
              "          await google.colab.kernel.invokeFunction('convertToInteractive',\n",
              "                                                    [key], {});\n",
              "        if (!dataTable) return;\n",
              "\n",
              "        const docLinkHtml = 'Like what you see? Visit the ' +\n",
              "          '<a target=\"_blank\" href=https://colab.research.google.com/notebooks/data_table.ipynb>data table notebook</a>'\n",
              "          + ' to learn more about interactive tables.';\n",
              "        element.innerHTML = '';\n",
              "        dataTable['output_type'] = 'display_data';\n",
              "        await google.colab.output.renderOutput(dataTable, element);\n",
              "        const docLink = document.createElement('div');\n",
              "        docLink.innerHTML = docLinkHtml;\n",
              "        element.appendChild(docLink);\n",
              "      }\n",
              "    </script>\n",
              "  </div>\n",
              "\n",
              "\n",
              "    <div id=\"df-309de5d9-7c8f-4242-80ad-b16c610dd0eb\">\n",
              "      <button class=\"colab-df-quickchart\" onclick=\"quickchart('df-309de5d9-7c8f-4242-80ad-b16c610dd0eb')\"\n",
              "                title=\"Suggest charts\"\n",
              "                style=\"display:none;\">\n",
              "\n",
              "<svg xmlns=\"http://www.w3.org/2000/svg\" height=\"24px\"viewBox=\"0 0 24 24\"\n",
              "     width=\"24px\">\n",
              "    <g>\n",
              "        <path d=\"M19 3H5c-1.1 0-2 .9-2 2v14c0 1.1.9 2 2 2h14c1.1 0 2-.9 2-2V5c0-1.1-.9-2-2-2zM9 17H7v-7h2v7zm4 0h-2V7h2v10zm4 0h-2v-4h2v4z\"/>\n",
              "    </g>\n",
              "</svg>\n",
              "      </button>\n",
              "\n",
              "<style>\n",
              "  .colab-df-quickchart {\n",
              "      --bg-color: #E8F0FE;\n",
              "      --fill-color: #1967D2;\n",
              "      --hover-bg-color: #E2EBFA;\n",
              "      --hover-fill-color: #174EA6;\n",
              "      --disabled-fill-color: #AAA;\n",
              "      --disabled-bg-color: #DDD;\n",
              "  }\n",
              "\n",
              "  [theme=dark] .colab-df-quickchart {\n",
              "      --bg-color: #3B4455;\n",
              "      --fill-color: #D2E3FC;\n",
              "      --hover-bg-color: #434B5C;\n",
              "      --hover-fill-color: #FFFFFF;\n",
              "      --disabled-bg-color: #3B4455;\n",
              "      --disabled-fill-color: #666;\n",
              "  }\n",
              "\n",
              "  .colab-df-quickchart {\n",
              "    background-color: var(--bg-color);\n",
              "    border: none;\n",
              "    border-radius: 50%;\n",
              "    cursor: pointer;\n",
              "    display: none;\n",
              "    fill: var(--fill-color);\n",
              "    height: 32px;\n",
              "    padding: 0;\n",
              "    width: 32px;\n",
              "  }\n",
              "\n",
              "  .colab-df-quickchart:hover {\n",
              "    background-color: var(--hover-bg-color);\n",
              "    box-shadow: 0 1px 2px rgba(60, 64, 67, 0.3), 0 1px 3px 1px rgba(60, 64, 67, 0.15);\n",
              "    fill: var(--button-hover-fill-color);\n",
              "  }\n",
              "\n",
              "  .colab-df-quickchart-complete:disabled,\n",
              "  .colab-df-quickchart-complete:disabled:hover {\n",
              "    background-color: var(--disabled-bg-color);\n",
              "    fill: var(--disabled-fill-color);\n",
              "    box-shadow: none;\n",
              "  }\n",
              "\n",
              "  .colab-df-spinner {\n",
              "    border: 2px solid var(--fill-color);\n",
              "    border-color: transparent;\n",
              "    border-bottom-color: var(--fill-color);\n",
              "    animation:\n",
              "      spin 1s steps(1) infinite;\n",
              "  }\n",
              "\n",
              "  @keyframes spin {\n",
              "    0% {\n",
              "      border-color: transparent;\n",
              "      border-bottom-color: var(--fill-color);\n",
              "      border-left-color: var(--fill-color);\n",
              "    }\n",
              "    20% {\n",
              "      border-color: transparent;\n",
              "      border-left-color: var(--fill-color);\n",
              "      border-top-color: var(--fill-color);\n",
              "    }\n",
              "    30% {\n",
              "      border-color: transparent;\n",
              "      border-left-color: var(--fill-color);\n",
              "      border-top-color: var(--fill-color);\n",
              "      border-right-color: var(--fill-color);\n",
              "    }\n",
              "    40% {\n",
              "      border-color: transparent;\n",
              "      border-right-color: var(--fill-color);\n",
              "      border-top-color: var(--fill-color);\n",
              "    }\n",
              "    60% {\n",
              "      border-color: transparent;\n",
              "      border-right-color: var(--fill-color);\n",
              "    }\n",
              "    80% {\n",
              "      border-color: transparent;\n",
              "      border-right-color: var(--fill-color);\n",
              "      border-bottom-color: var(--fill-color);\n",
              "    }\n",
              "    90% {\n",
              "      border-color: transparent;\n",
              "      border-bottom-color: var(--fill-color);\n",
              "    }\n",
              "  }\n",
              "</style>\n",
              "\n",
              "      <script>\n",
              "        async function quickchart(key) {\n",
              "          const quickchartButtonEl =\n",
              "            document.querySelector('#' + key + ' button');\n",
              "          quickchartButtonEl.disabled = true;  // To prevent multiple clicks.\n",
              "          quickchartButtonEl.classList.add('colab-df-spinner');\n",
              "          try {\n",
              "            const charts = await google.colab.kernel.invokeFunction(\n",
              "                'suggestCharts', [key], {});\n",
              "          } catch (error) {\n",
              "            console.error('Error during call to suggestCharts:', error);\n",
              "          }\n",
              "          quickchartButtonEl.classList.remove('colab-df-spinner');\n",
              "          quickchartButtonEl.classList.add('colab-df-quickchart-complete');\n",
              "        }\n",
              "        (() => {\n",
              "          let quickchartButtonEl =\n",
              "            document.querySelector('#df-309de5d9-7c8f-4242-80ad-b16c610dd0eb button');\n",
              "          quickchartButtonEl.style.display =\n",
              "            google.colab.kernel.accessAllowed ? 'block' : 'none';\n",
              "        })();\n",
              "      </script>\n",
              "    </div>\n",
              "\n",
              "    </div>\n",
              "  </div>\n"
            ],
            "application/vnd.google.colaboratory.intrinsic+json": {
              "type": "dataframe",
              "variable_name": "stock_data",
              "summary": "{\n  \"name\": \"stock_data\",\n  \"rows\": 651,\n  \"fields\": [\n    {\n      \"column\": [\n        \"Date\",\n        \"\"\n      ],\n      \"properties\": {\n        \"dtype\": \"date\",\n        \"min\": \"2023-01-03 00:00:00\",\n        \"max\": \"2025-08-07 00:00:00\",\n        \"num_unique_values\": 651,\n        \"samples\": [\n          \"2025-07-22 00:00:00\",\n          \"2024-01-23 00:00:00\",\n          \"2024-01-16 00:00:00\"\n        ],\n        \"semantic_type\": \"\",\n        \"description\": \"\"\n      }\n    },\n    {\n      \"column\": [\n        \"Close\",\n        \"AAPL\"\n      ],\n      \"properties\": {\n        \"dtype\": \"number\",\n        \"std\": 28.20736381424849,\n        \"min\": 123.4212417602539,\n        \"max\": 258.39666748046875,\n        \"num_unique_values\": 644,\n        \"samples\": [\n          214.39999389648438,\n          201.36000061035156,\n          203.27000427246094\n        ],\n        \"semantic_type\": \"\",\n        \"description\": \"\"\n      }\n    },\n    {\n      \"column\": [\n        \"High\",\n        \"AAPL\"\n      ],\n      \"properties\": {\n        \"dtype\": \"number\",\n        \"std\": 28.47498595229248,\n        \"min\": 126.13607477860468,\n        \"max\": 259.47408555117545,\n        \"num_unique_values\": 651,\n        \"samples\": [\n          214.9499969482422,\n          194.3269260762536,\n          182.92043833380222\n        ],\n        \"semantic_type\": \"\",\n        \"description\": \"\"\n      }\n    },\n    {\n      \"column\": [\n        \"Low\",\n        \"AAPL\"\n      ],\n      \"properties\": {\n        \"dtype\": \"number\",\n        \"std\": 27.880615237004896,\n        \"min\": 122.5821116407929,\n        \"max\": 257.0100282923795,\n        \"num_unique_values\": 651,\n        \"samples\": [\n          212.22999572753906,\n          192.42088601370864,\n          179.61464536328148\n        ],\n        \"semantic_type\": \"\",\n        \"description\": \"\"\n      }\n    },\n    {\n      \"column\": [\n        \"Open\",\n        \"AAPL\"\n      ],\n      \"properties\": {\n        \"dtype\": \"number\",\n        \"std\": 28.24232786948778,\n        \"min\": 124.39858171183529,\n        \"max\": 257.56867823862046,\n        \"num_unique_values\": 648,\n        \"samples\": [\n          212.10000610351562,\n          188.191859451107,\n          210.9499969482422\n        ],\n        \"semantic_type\": \"\",\n        \"description\": \"\"\n      }\n    },\n    {\n      \"column\": [\n        \"Volume\",\n        \"AAPL\"\n      ],\n      \"properties\": {\n        \"dtype\": \"number\",\n        \"std\": 24839874,\n        \"min\": 23234700,\n        \"max\": 318679900,\n        \"num_unique_values\": 651,\n        \"samples\": [\n          46404100,\n          42355600,\n          65603000\n        ],\n        \"semantic_type\": \"\",\n        \"description\": \"\"\n      }\n    }\n  ]\n}"
            }
          },
          "metadata": {},
          "execution_count": 2
        }
      ],
      "source": [
        "stock_data.head(10)\n"
      ]
    },
    {
      "cell_type": "code",
      "execution_count": 3,
      "metadata": {
        "colab": {
          "base_uri": "https://localhost:8080/",
          "height": 564
        },
        "id": "pzGWyPCO_gkj",
        "outputId": "613d1b0f-c0e1-42ee-82df-f6b4df876c8f"
      },
      "outputs": [
        {
          "output_type": "display_data",
          "data": {
            "text/plain": [
              "<Figure size 1000x600 with 1 Axes>"
            ],
            "image/png": "[encoded data removed]"
          },
          "metadata": {}
        }
      ],
      "source": [
        "plt.figure(figsize=(10,6))\n",
        "plt.plot(stock_data.index, stock_data['Close'], label='Close Price history')\n",
        "plt.title('Close Price History')\n",
        "plt.xlabel('Date')\n",
        "plt.ylabel('Close Price')\n",
        "plt.legend()\n",
        "plt.grid(True)\n",
        "plt.show()"
      ]
    },
    {
      "cell_type": "markdown",
      "metadata": {
        "id": "m1FoI1nD98In"
      },
      "source": [
        "## AR Model"
      ]
    },
    {
      "cell_type": "code",
      "execution_count": 4,
      "metadata": {
        "id": "kPV9ieeRB1L7"
      },
      "outputs": [],
      "source": [
        "## making the data stationary before model fitting\n",
        "apple_price_stationary = stock_data['Close'].diff().dropna()\n",
        "\n",
        "# Split the data into training and testing datasets\n",
        "train_data, test_data  = apple_price_stationary[:-30],  apple_price_stationary[-30:]"
      ]
    },
    {
      "cell_type": "code",
      "source": [
        "## fitting the autoregressive model (AR) to the training data\n",
        "from statsmodels.tsa.ar_model import AutoReg\n",
        "\n",
        "model = AutoReg(train_data, lags=30)\n",
        "model_fit = model.fit()\n",
        "\n",
        "\n",
        "## make predictions on the test data\n",
        "predictions = model_fit.predict(\n",
        "    start=len(train_data),\n",
        "    end=len(train_data) +  len(test_data) - 1,\n",
        "    dynamic=False\n",
        "\n",
        ")"
      ],
      "metadata": {
        "colab": {
          "base_uri": "https://localhost:8080/"
        },
        "id": "JJLeNWNjSH3h",
        "outputId": "425458ce-55f7-4b27-a81d-ce20d9e2d44b"
      },
      "execution_count": 5,
      "outputs": [
        {
          "output_type": "stream",
          "name": "stderr",
          "text": [
            "/usr/local/lib/python3.11/dist-packages/statsmodels/tsa/base/tsa_model.py:473: ValueWarning: A date index has been provided, but it has no associated frequency information and so will be ignored when e.g. forecasting.\n",
            "  self._init_dates(dates, freq)\n",
            "/usr/local/lib/python3.11/dist-packages/statsmodels/tsa/base/tsa_model.py:837: ValueWarning: No supported index is available. Prediction results will be given with an integer index beginning at `start`.\n",
            "  return get_prediction_index(\n",
            "/usr/local/lib/python3.11/dist-packages/statsmodels/tsa/base/tsa_model.py:837: FutureWarning: No supported index is available. In the next version, calling this method in a model without a supported index will result in an exception.\n",
            "  return get_prediction_index(\n",
            "/usr/local/lib/python3.11/dist-packages/statsmodels/tsa/deterministic.py:308: UserWarning: Only PeriodIndexes, DatetimeIndexes with a frequency set, RangesIndexes, and Index with a unit increment support extending. The index is set will contain the position relative to the data length.\n",
            "  fcast_index = self._extend_index(index, steps, forecast_index)\n"
          ]
        }
      ]
    },
    {
      "cell_type": "markdown",
      "source": [
        "### AR model with lag=30"
      ],
      "metadata": {
        "id": "B82AYj0GUx8N"
      }
    },
    {
      "cell_type": "markdown",
      "source": [
        "### Evaluating.."
      ],
      "metadata": {
        "id": "ogLpHtUwSukm"
      }
    },
    {
      "cell_type": "code",
      "source": [
        "from sklearn.metrics import mean_absolute_error, mean_squared_error\n",
        "import numpy as np\n",
        "\n",
        "#1. Mean absolute error(MAE)\n",
        "mae = mean_absolute_error(test_data, predictions)\n",
        "print(f\"Mean Absolute Error (MAE): {mae}\")\n",
        "\n",
        "\n",
        "#2. Mean squared error(MSE)\n",
        "mse = mean_squared_error(test_data, predictions)\n",
        "print(f\"Mean Squared Error (MSE): {mse}\")\n",
        "\n",
        "\n",
        "#3. Root mean squared error(RMSE)\n",
        "rmse = np.sqrt(mse)\n",
        "print(f\"Root Mean Squared Error (RMSE): {rmse}\")\n",
        "\n",
        "\n",
        "#4. Mean absolute percentage error (MAPE)\n",
        "mape = np.mean(np.abs((test_data['AAPL'].values - predictions.values) / test_data['AAPL'].values)) * 100\n",
        "print(f\"Mean Absolute Percentage Error (MAPE): {mape}\")\n",
        "\n",
        "\n",
        "## aic and bic  ...###  check which model is better\n",
        "aic =  model_fit.aic\n",
        "bic = model_fit.bic\n",
        "print(f\"AIC: {aic}\")\n",
        "print(f\"BIC: {bic}\")"
      ],
      "metadata": {
        "colab": {
          "base_uri": "https://localhost:8080/"
        },
        "id": "7w74BG7eSrlz",
        "outputId": "d056b8c6-4068-4378-827c-f3c2edf64919"
      },
      "execution_count": 11,
      "outputs": [
        {
          "output_type": "stream",
          "name": "stdout",
          "text": [
            "Mean Absolute Error (MAE): 2.0872708613811617\n",
            "Mean Squared Error (MSE): 9.134742090009505\n",
            "Root Mean Squared Error (RMSE): 3.0223735854472897\n",
            "Mean Absolute Percentage Error (MAPE): 159.22276455075746\n",
            "AIC: 3096.7200770847103\n",
            "BIC: 3236.8839982655027\n"
          ]
        }
      ]
    },
    {
      "cell_type": "markdown",
      "source": [
        "### AR model with lag=20"
      ],
      "metadata": {
        "id": "Qq4LgejBU13n"
      }
    },
    {
      "cell_type": "code",
      "source": [
        "model = AutoReg(train_data, lags=20)\n",
        "model_fit = model.fit()\n",
        "\n",
        "\n",
        "## making predictions on the test data\n",
        "predictions = model_fit.predict(\n",
        "    start=len(train_data),\n",
        "    end=len(train_data) +  len(test_data) - 1,\n",
        "    dynamic=False\n",
        ")\n",
        "\n",
        "\n",
        "\n",
        "#1. Mean absolute error(MAE)\n",
        "mae = mean_absolute_error(test_data, predictions)\n",
        "print(f\"Mean Absolute Error (MAE): {mae}\")\n",
        "\n",
        "\n",
        "#2. Mean squared error(MSE)\n",
        "mse = mean_squared_error(test_data, predictions)\n",
        "print(f\"Mean Squared Error (MSE): {mse}\")\n",
        "\n",
        "\n",
        "#3. Root mean squared error(RMSE)\n",
        "rmse = np.sqrt(mse)\n",
        "print(f\"Root Mean Squared Error (RMSE): {rmse}\")\n",
        "\n",
        "\n",
        "#4. Mean absolute percentage error (MAPE)\n",
        "mape = np.mean(np.abs((test_data['AAPL'].values - predictions.values) / test_data['AAPL'].values)) * 100\n",
        "print(f\"Mean Absolute Percentage Error (MAPE): {mape}\")\n",
        "\n",
        "\n",
        "## aic and bic  ...###  check which model is better\n",
        "aic =  model_fit.aic\n",
        "bic = model_fit.bic\n",
        "print(f\"AIC: {aic}\")\n",
        "print(f\"BIC: {bic}\")"
      ],
      "metadata": {
        "colab": {
          "base_uri": "https://localhost:8080/"
        },
        "id": "vfqG8nv6ToAX",
        "outputId": "63b8d18f-8aa7-414f-f115-747015067e6e"
      },
      "execution_count": 12,
      "outputs": [
        {
          "output_type": "stream",
          "name": "stdout",
          "text": [
            "Mean Absolute Error (MAE): 1.9818757934121292\n",
            "Mean Squared Error (MSE): 8.842580426438285\n",
            "Root Mean Squared Error (RMSE): 2.9736476634662496\n",
            "Mean Absolute Percentage Error (MAPE): 112.90148510662176\n",
            "AIC: 3141.8321867998156\n",
            "BIC: 3238.564639214571\n"
          ]
        },
        {
          "output_type": "stream",
          "name": "stderr",
          "text": [
            "/usr/local/lib/python3.11/dist-packages/statsmodels/tsa/base/tsa_model.py:473: ValueWarning: A date index has been provided, but it has no associated frequency information and so will be ignored when e.g. forecasting.\n",
            "  self._init_dates(dates, freq)\n",
            "/usr/local/lib/python3.11/dist-packages/statsmodels/tsa/base/tsa_model.py:837: ValueWarning: No supported index is available. Prediction results will be given with an integer index beginning at `start`.\n",
            "  return get_prediction_index(\n",
            "/usr/local/lib/python3.11/dist-packages/statsmodels/tsa/base/tsa_model.py:837: FutureWarning: No supported index is available. In the next version, calling this method in a model without a supported index will result in an exception.\n",
            "  return get_prediction_index(\n",
            "/usr/local/lib/python3.11/dist-packages/statsmodels/tsa/deterministic.py:308: UserWarning: Only PeriodIndexes, DatetimeIndexes with a frequency set, RangesIndexes, and Index with a unit increment support extending. The index is set will contain the position relative to the data length.\n",
            "  fcast_index = self._extend_index(index, steps, forecast_index)\n"
          ]
        }
      ]
    },
    {
      "cell_type": "markdown",
      "source": [
        "### end_here!"
      ],
      "metadata": {
        "id": "hrdsF2nAVxhI"
      }
    }
  ],
  "metadata": {
    "colab": {
      "provenance": []
    },
    "kernelspec": {
      "display_name": "Python 3",
      "name": "python3"
    },
    "language_info": {
      "name": "python"
    }
  },
  "nbformat": 4,
  "nbformat_minor": 0
}