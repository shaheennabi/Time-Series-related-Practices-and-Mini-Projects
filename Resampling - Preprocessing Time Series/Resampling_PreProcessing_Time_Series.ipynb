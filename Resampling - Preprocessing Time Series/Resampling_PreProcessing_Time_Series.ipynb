{
  "cells": [
    {
      "cell_type": "code",
      "execution_count": 1,
      "metadata": {
        "id": "zrY1z9eG-GfV",
        "colab": {
          "base_uri": "https://localhost:8080/"
        },
        "outputId": "6a0e07d9-25cf-4bb5-9577-f74ad2c61902"
      },
      "outputs": [
        {
          "output_type": "stream",
          "name": "stderr",
          "text": [
            "/tmp/ipython-input-2789025176.py:7: FutureWarning: YF.download() has changed argument auto_adjust default to True\n",
            "  stock_data = yf.download('AAPL', start='2023-01-01')\n",
            "[*********************100%***********************]  1 of 1 completed\n"
          ]
        }
      ],
      "source": [
        "import yfinance as yf\n",
        "import numpy as np\n",
        "import matplotlib.pyplot as plt\n",
        "import pandas as pd\n",
        "import yfinance as yf\n",
        "stock_data = yf.download('AAPL', start='2023-01-01')\n"
      ]
    },
    {
      "cell_type": "code",
      "execution_count": 2,
      "metadata": {
        "colab": {
          "base_uri": "https://localhost:8080/",
          "height": 425
        },
        "id": "6MGKAiDn_bql",
        "outputId": "d2b801c8-97aa-4f16-c057-0f7989646f7d"
      },
      "outputs": [
        {
          "output_type": "execute_result",
          "data": {
            "text/plain": [
              "Price            Close        High         Low        Open     Volume\n",
              "Ticker            AAPL        AAPL        AAPL        AAPL       AAPL\n",
              "Date                                                                 \n",
              "2023-01-03  123.470604  129.226044  122.582112  128.613978  112117500\n",
              "2023-01-04  124.744118  127.014709  123.480487  125.267339   89113600\n",
              "2023-01-05  123.421249  126.136083  123.164580  125.504267   80962700\n",
              "2023-01-06  127.962410  128.623840  123.292902  124.398582   87754700\n",
              "2023-01-09  128.485641  131.703962  128.228972  128.801557   70790800\n",
              "2023-01-10  129.058212  129.581433  126.481589  128.594221   63896200\n",
              "2023-01-11  131.782959  131.802692  128.791707  129.571598   69458900\n",
              "2023-01-12  131.703964  132.543085  129.759155  132.167955   71379600\n",
              "2023-01-13  133.036682  133.194640  129.976334  130.341598   57809700\n",
              "2023-01-17  134.201599  135.534326  132.414748  133.105793   63646600"
            ],
            "text/html": [
              "\n",
              "  <div id=\"df-5f76bb0f-5656-4e26-9106-cf876621f437\" class=\"colab-df-container\">\n",
              "    <div>\n",
              "<style scoped>\n",
              "    .dataframe tbody tr th:only-of-type {\n",
              "        vertical-align: middle;\n",
              "    }\n",
              "\n",
              "    .dataframe tbody tr th {\n",
              "        vertical-align: top;\n",
              "    }\n",
              "\n",
              "    .dataframe thead tr th {\n",
              "        text-align: left;\n",
              "    }\n",
              "\n",
              "    .dataframe thead tr:last-of-type th {\n",
              "        text-align: right;\n",
              "    }\n",
              "</style>\n",
              "<table border=\"1\" class=\"dataframe\">\n",
              "  <thead>\n",
              "    <tr>\n",
              "      <th>Price</th>\n",
              "      <th>Close</th>\n",
              "      <th>High</th>\n",
              "      <th>Low</th>\n",
              "      <th>Open</th>\n",
              "      <th>Volume</th>\n",
              "    </tr>\n",
              "    <tr>\n",
              "      <th>Ticker</th>\n",
              "      <th>AAPL</th>\n",
              "      <th>AAPL</th>\n",
              "      <th>AAPL</th>\n",
              "      <th>AAPL</th>\n",
              "      <th>AAPL</th>\n",
              "    </tr>\n",
              "    <tr>\n",
              "      <th>Date</th>\n",
              "      <th></th>\n",
              "      <th></th>\n",
              "      <th></th>\n",
              "      <th></th>\n",
              "      <th></th>\n",
              "    </tr>\n",
              "  </thead>\n",
              "  <tbody>\n",
              "    <tr>\n",
              "      <th>2023-01-03</th>\n",
              "      <td>123.470604</td>\n",
              "      <td>129.226044</td>\n",
              "      <td>122.582112</td>\n",
              "      <td>128.613978</td>\n",
              "      <td>112117500</td>\n",
              "    </tr>\n",
              "    <tr>\n",
              "      <th>2023-01-04</th>\n",
              "      <td>124.744118</td>\n",
              "      <td>127.014709</td>\n",
              "      <td>123.480487</td>\n",
              "      <td>125.267339</td>\n",
              "      <td>89113600</td>\n",
              "    </tr>\n",
              "    <tr>\n",
              "      <th>2023-01-05</th>\n",
              "      <td>123.421249</td>\n",
              "      <td>126.136083</td>\n",
              "      <td>123.164580</td>\n",
              "      <td>125.504267</td>\n",
              "      <td>80962700</td>\n",
              "    </tr>\n",
              "    <tr>\n",
              "      <th>2023-01-06</th>\n",
              "      <td>127.962410</td>\n",
              "      <td>128.623840</td>\n",
              "      <td>123.292902</td>\n",
              "      <td>124.398582</td>\n",
              "      <td>87754700</td>\n",
              "    </tr>\n",
              "    <tr>\n",
              "      <th>2023-01-09</th>\n",
              "      <td>128.485641</td>\n",
              "      <td>131.703962</td>\n",
              "      <td>128.228972</td>\n",
              "      <td>128.801557</td>\n",
              "      <td>70790800</td>\n",
              "    </tr>\n",
              "    <tr>\n",
              "      <th>2023-01-10</th>\n",
              "      <td>129.058212</td>\n",
              "      <td>129.581433</td>\n",
              "      <td>126.481589</td>\n",
              "      <td>128.594221</td>\n",
              "      <td>63896200</td>\n",
              "    </tr>\n",
              "    <tr>\n",
              "      <th>2023-01-11</th>\n",
              "      <td>131.782959</td>\n",
              "      <td>131.802692</td>\n",
              "      <td>128.791707</td>\n",
              "      <td>129.571598</td>\n",
              "      <td>69458900</td>\n",
              "    </tr>\n",
              "    <tr>\n",
              "      <th>2023-01-12</th>\n",
              "      <td>131.703964</td>\n",
              "      <td>132.543085</td>\n",
              "      <td>129.759155</td>\n",
              "      <td>132.167955</td>\n",
              "      <td>71379600</td>\n",
              "    </tr>\n",
              "    <tr>\n",
              "      <th>2023-01-13</th>\n",
              "      <td>133.036682</td>\n",
              "      <td>133.194640</td>\n",
              "      <td>129.976334</td>\n",
              "      <td>130.341598</td>\n",
              "      <td>57809700</td>\n",
              "    </tr>\n",
              "    <tr>\n",
              "      <th>2023-01-17</th>\n",
              "      <td>134.201599</td>\n",
              "      <td>135.534326</td>\n",
              "      <td>132.414748</td>\n",
              "      <td>133.105793</td>\n",
              "      <td>63646600</td>\n",
              "    </tr>\n",
              "  </tbody>\n",
              "</table>\n",
              "</div>\n",
              "    <div class=\"colab-df-buttons\">\n",
              "\n",
              "  <div class=\"colab-df-container\">\n",
              "    <button class=\"colab-df-convert\" onclick=\"convertToInteractive('df-5f76bb0f-5656-4e26-9106-cf876621f437')\"\n",
              "            title=\"Convert this dataframe to an interactive table.\"\n",
              "            style=\"display:none;\">\n",
              "\n",
              "  <svg xmlns=\"http://www.w3.org/2000/svg\" height=\"24px\" viewBox=\"0 -960 960 960\">\n",
              "    <path d=\"M120-120v-720h720v720H120Zm60-500h600v-160H180v160Zm220 220h160v-160H400v160Zm0 220h160v-160H400v160ZM180-400h160v-160H180v160Zm440 0h160v-160H620v160ZM180-180h160v-160H180v160Zm440 0h160v-160H620v160Z\"/>\n",
              "  </svg>\n",
              "    </button>\n",
              "\n",
              "  <style>\n",
              "    .colab-df-container {\n",
              "      display:flex;\n",
              "      gap: 12px;\n",
              "    }\n",
              "\n",
              "    .colab-df-convert {\n",
              "      background-color: #E8F0FE;\n",
              "      border: none;\n",
              "      border-radius: 50%;\n",
              "      cursor: pointer;\n",
              "      display: none;\n",
              "      fill: #1967D2;\n",
              "      height: 32px;\n",
              "      padding: 0 0 0 0;\n",
              "      width: 32px;\n",
              "    }\n",
              "\n",
              "    .colab-df-convert:hover {\n",
              "      background-color: #E2EBFA;\n",
              "      box-shadow: 0px 1px 2px rgba(60, 64, 67, 0.3), 0px 1px 3px 1px rgba(60, 64, 67, 0.15);\n",
              "      fill: #174EA6;\n",
              "    }\n",
              "\n",
              "    .colab-df-buttons div {\n",
              "      margin-bottom: 4px;\n",
              "    }\n",
              "\n",
              "    [theme=dark] .colab-df-convert {\n",
              "      background-color: #3B4455;\n",
              "      fill: #D2E3FC;\n",
              "    }\n",
              "\n",
              "    [theme=dark] .colab-df-convert:hover {\n",
              "      background-color: #434B5C;\n",
              "      box-shadow: 0px 1px 3px 1px rgba(0, 0, 0, 0.15);\n",
              "      filter: drop-shadow(0px 1px 2px rgba(0, 0, 0, 0.3));\n",
              "      fill: #FFFFFF;\n",
              "    }\n",
              "  </style>\n",
              "\n",
              "    <script>\n",
              "      const buttonEl =\n",
              "        document.querySelector('#df-5f76bb0f-5656-4e26-9106-cf876621f437 button.colab-df-convert');\n",
              "      buttonEl.style.display =\n",
              "        google.colab.kernel.accessAllowed ? 'block' : 'none';\n",
              "\n",
              "      async function convertToInteractive(key) {\n",
              "        const element = document.querySelector('#df-5f76bb0f-5656-4e26-9106-cf876621f437');\n",
              "        const dataTable =\n",
              "          await google.colab.kernel.invokeFunction('convertToInteractive',\n",
              "                                                    [key], {});\n",
              "        if (!dataTable) return;\n",
              "\n",
              "        const docLinkHtml = 'Like what you see? Visit the ' +\n",
              "          '<a target=\"_blank\" href=https://colab.research.google.com/notebooks/data_table.ipynb>data table notebook</a>'\n",
              "          + ' to learn more about interactive tables.';\n",
              "        element.innerHTML = '';\n",
              "        dataTable['output_type'] = 'display_data';\n",
              "        await google.colab.output.renderOutput(dataTable, element);\n",
              "        const docLink = document.createElement('div');\n",
              "        docLink.innerHTML = docLinkHtml;\n",
              "        element.appendChild(docLink);\n",
              "      }\n",
              "    </script>\n",
              "  </div>\n",
              "\n",
              "\n",
              "    <div id=\"df-e31baa24-6718-4662-ab9c-3af5eeaa212a\">\n",
              "      <button class=\"colab-df-quickchart\" onclick=\"quickchart('df-e31baa24-6718-4662-ab9c-3af5eeaa212a')\"\n",
              "                title=\"Suggest charts\"\n",
              "                style=\"display:none;\">\n",
              "\n",
              "<svg xmlns=\"http://www.w3.org/2000/svg\" height=\"24px\"viewBox=\"0 0 24 24\"\n",
              "     width=\"24px\">\n",
              "    <g>\n",
              "        <path d=\"M19 3H5c-1.1 0-2 .9-2 2v14c0 1.1.9 2 2 2h14c1.1 0 2-.9 2-2V5c0-1.1-.9-2-2-2zM9 17H7v-7h2v7zm4 0h-2V7h2v10zm4 0h-2v-4h2v4z\"/>\n",
              "    </g>\n",
              "</svg>\n",
              "      </button>\n",
              "\n",
              "<style>\n",
              "  .colab-df-quickchart {\n",
              "      --bg-color: #E8F0FE;\n",
              "      --fill-color: #1967D2;\n",
              "      --hover-bg-color: #E2EBFA;\n",
              "      --hover-fill-color: #174EA6;\n",
              "      --disabled-fill-color: #AAA;\n",
              "      --disabled-bg-color: #DDD;\n",
              "  }\n",
              "\n",
              "  [theme=dark] .colab-df-quickchart {\n",
              "      --bg-color: #3B4455;\n",
              "      --fill-color: #D2E3FC;\n",
              "      --hover-bg-color: #434B5C;\n",
              "      --hover-fill-color: #FFFFFF;\n",
              "      --disabled-bg-color: #3B4455;\n",
              "      --disabled-fill-color: #666;\n",
              "  }\n",
              "\n",
              "  .colab-df-quickchart {\n",
              "    background-color: var(--bg-color);\n",
              "    border: none;\n",
              "    border-radius: 50%;\n",
              "    cursor: pointer;\n",
              "    display: none;\n",
              "    fill: var(--fill-color);\n",
              "    height: 32px;\n",
              "    padding: 0;\n",
              "    width: 32px;\n",
              "  }\n",
              "\n",
              "  .colab-df-quickchart:hover {\n",
              "    background-color: var(--hover-bg-color);\n",
              "    box-shadow: 0 1px 2px rgba(60, 64, 67, 0.3), 0 1px 3px 1px rgba(60, 64, 67, 0.15);\n",
              "    fill: var(--button-hover-fill-color);\n",
              "  }\n",
              "\n",
              "  .colab-df-quickchart-complete:disabled,\n",
              "  .colab-df-quickchart-complete:disabled:hover {\n",
              "    background-color: var(--disabled-bg-color);\n",
              "    fill: var(--disabled-fill-color);\n",
              "    box-shadow: none;\n",
              "  }\n",
              "\n",
              "  .colab-df-spinner {\n",
              "    border: 2px solid var(--fill-color);\n",
              "    border-color: transparent;\n",
              "    border-bottom-color: var(--fill-color);\n",
              "    animation:\n",
              "      spin 1s steps(1) infinite;\n",
              "  }\n",
              "\n",
              "  @keyframes spin {\n",
              "    0% {\n",
              "      border-color: transparent;\n",
              "      border-bottom-color: var(--fill-color);\n",
              "      border-left-color: var(--fill-color);\n",
              "    }\n",
              "    20% {\n",
              "      border-color: transparent;\n",
              "      border-left-color: var(--fill-color);\n",
              "      border-top-color: var(--fill-color);\n",
              "    }\n",
              "    30% {\n",
              "      border-color: transparent;\n",
              "      border-left-color: var(--fill-color);\n",
              "      border-top-color: var(--fill-color);\n",
              "      border-right-color: var(--fill-color);\n",
              "    }\n",
              "    40% {\n",
              "      border-color: transparent;\n",
              "      border-right-color: var(--fill-color);\n",
              "      border-top-color: var(--fill-color);\n",
              "    }\n",
              "    60% {\n",
              "      border-color: transparent;\n",
              "      border-right-color: var(--fill-color);\n",
              "    }\n",
              "    80% {\n",
              "      border-color: transparent;\n",
              "      border-right-color: var(--fill-color);\n",
              "      border-bottom-color: var(--fill-color);\n",
              "    }\n",
              "    90% {\n",
              "      border-color: transparent;\n",
              "      border-bottom-color: var(--fill-color);\n",
              "    }\n",
              "  }\n",
              "</style>\n",
              "\n",
              "      <script>\n",
              "        async function quickchart(key) {\n",
              "          const quickchartButtonEl =\n",
              "            document.querySelector('#' + key + ' button');\n",
              "          quickchartButtonEl.disabled = true;  // To prevent multiple clicks.\n",
              "          quickchartButtonEl.classList.add('colab-df-spinner');\n",
              "          try {\n",
              "            const charts = await google.colab.kernel.invokeFunction(\n",
              "                'suggestCharts', [key], {});\n",
              "          } catch (error) {\n",
              "            console.error('Error during call to suggestCharts:', error);\n",
              "          }\n",
              "          quickchartButtonEl.classList.remove('colab-df-spinner');\n",
              "          quickchartButtonEl.classList.add('colab-df-quickchart-complete');\n",
              "        }\n",
              "        (() => {\n",
              "          let quickchartButtonEl =\n",
              "            document.querySelector('#df-e31baa24-6718-4662-ab9c-3af5eeaa212a button');\n",
              "          quickchartButtonEl.style.display =\n",
              "            google.colab.kernel.accessAllowed ? 'block' : 'none';\n",
              "        })();\n",
              "      </script>\n",
              "    </div>\n",
              "\n",
              "    </div>\n",
              "  </div>\n"
            ],
            "application/vnd.google.colaboratory.intrinsic+json": {
              "type": "dataframe",
              "variable_name": "stock_data",
              "summary": "{\n  \"name\": \"stock_data\",\n  \"rows\": 652,\n  \"fields\": [\n    {\n      \"column\": [\n        \"Date\",\n        \"\"\n      ],\n      \"properties\": {\n        \"dtype\": \"date\",\n        \"min\": \"2023-01-03 00:00:00\",\n        \"max\": \"2025-08-08 00:00:00\",\n        \"num_unique_values\": 652,\n        \"samples\": [\n          \"2025-07-23 00:00:00\",\n          \"2024-01-24 00:00:00\",\n          \"2024-01-17 00:00:00\"\n        ],\n        \"semantic_type\": \"\",\n        \"description\": \"\"\n      }\n    },\n    {\n      \"column\": [\n        \"Close\",\n        \"AAPL\"\n      ],\n      \"properties\": {\n        \"dtype\": \"number\",\n        \"std\": 28.218060268707998,\n        \"min\": 123.42124938964844,\n        \"max\": 258.39666748046875,\n        \"num_unique_values\": 645,\n        \"samples\": [\n          214.14999389648438,\n          201.36000061035156,\n          203.27000427246094\n        ],\n        \"semantic_type\": \"\",\n        \"description\": \"\"\n      }\n    },\n    {\n      \"column\": [\n        \"High\",\n        \"AAPL\"\n      ],\n      \"properties\": {\n        \"dtype\": \"number\",\n        \"std\": 28.485124148859363,\n        \"min\": 126.13608257581905,\n        \"max\": 259.47408555117545,\n        \"num_unique_values\": 652,\n        \"samples\": [\n          215.14999389648438,\n          194.9523359132993,\n          181.6001112377356\n        ],\n        \"semantic_type\": \"\",\n        \"description\": \"\"\n      }\n    },\n    {\n      \"column\": [\n        \"Low\",\n        \"AAPL\"\n      ],\n      \"properties\": {\n        \"dtype\": \"number\",\n        \"std\": 27.878515437373302,\n        \"min\": 122.5821116407929,\n        \"max\": 257.0100282923795,\n        \"num_unique_values\": 652,\n        \"samples\": [\n          212.41000366210938,\n          192.92715808853583,\n          178.98924135636386\n        ],\n        \"semantic_type\": \"\",\n        \"description\": \"\"\n      }\n    },\n    {\n      \"column\": [\n        \"Open\",\n        \"AAPL\"\n      ],\n      \"properties\": {\n        \"dtype\": \"number\",\n        \"std\": 28.239448104466074,\n        \"min\": 124.39858171183529,\n        \"max\": 257.56867823862046,\n        \"num_unique_values\": 649,\n        \"samples\": [\n          213.13999938964844,\n          188.19184420357837,\n          212.36000061035156\n        ],\n        \"semantic_type\": \"\",\n        \"description\": \"\"\n      }\n    },\n    {\n      \"column\": [\n        \"Volume\",\n        \"AAPL\"\n      ],\n      \"properties\": {\n        \"dtype\": \"number\",\n        \"std\": 24846842,\n        \"min\": 23234700,\n        \"max\": 318679900,\n        \"num_unique_values\": 652,\n        \"samples\": [\n          46989300,\n          53631300,\n          47317400\n        ],\n        \"semantic_type\": \"\",\n        \"description\": \"\"\n      }\n    }\n  ]\n}"
            }
          },
          "metadata": {},
          "execution_count": 2
        }
      ],
      "source": [
        "stock_data.head(10)\n"
      ]
    },
    {
      "cell_type": "code",
      "execution_count": 3,
      "metadata": {
        "colab": {
          "base_uri": "https://localhost:8080/",
          "height": 564
        },
        "id": "pzGWyPCO_gkj",
        "outputId": "297c8438-6856-4df6-fbfd-a48b5189e5fa"
      },
      "outputs": [
        {
          "output_type": "display_data",
          "data": {
            "text/plain": [
              "<Figure size 1000x600 with 1 Axes>"
            ],
            "image/png": "[encoded data removed]"
          },
          "metadata": {}
        }
      ],
      "source": [
        "plt.figure(figsize=(10,6))\n",
        "plt.plot(stock_data.index, stock_data['Close'], label='Close Price history')\n",
        "plt.title('Close Price History')\n",
        "plt.xlabel('Date')\n",
        "plt.ylabel('Close Price')\n",
        "plt.legend()\n",
        "plt.grid(True)\n",
        "plt.show()"
      ]
    },
    {
      "cell_type": "markdown",
      "source": [
        "## Resampling"
      ],
      "metadata": {
        "id": "qHnASMZyFnpz"
      }
    },
    {
      "cell_type": "markdown",
      "source": [
        "1. Downsampling"
      ],
      "metadata": {
        "id": "FUyJRNg1FpY_"
      }
    },
    {
      "cell_type": "code",
      "source": [
        "montly_data = stock_data['Close'].resample('M').mean()\n",
        "print(\"Monthly Data\", montly_data)"
      ],
      "metadata": {
        "colab": {
          "base_uri": "https://localhost:8080/"
        },
        "id": "SUP_MmI-Fiqg",
        "outputId": "30430ce1-9894-4b12-d8a6-459b85aea611"
      },
      "execution_count": 4,
      "outputs": [
        {
          "output_type": "stream",
          "name": "stdout",
          "text": [
            "Monthly Data Ticker            AAPL\n",
            "Date                  \n",
            "2023-01-31  134.042669\n",
            "2023-02-28  149.181324\n",
            "2023-03-31  153.216687\n",
            "2023-04-30  163.183973\n",
            "2023-05-31  170.815941\n",
            "2023-06-30  182.456523\n",
            "2023-07-31  190.504121\n",
            "2023-08-31  179.445123\n",
            "2023-09-30  175.484522\n",
            "2023-10-31  173.170673\n",
            "2023-11-30  184.450170\n",
            "2023-12-31  192.895897\n",
            "2024-01-31  186.359553\n",
            "2024-02-29  183.594861\n",
            "2024-03-31  171.659776\n",
            "2024-04-30  168.586386\n",
            "2024-05-31  185.341725\n",
            "2024-06-30  205.303019\n",
            "2024-07-31  223.553153\n",
            "2024-08-31  220.783581\n",
            "2024-09-30  222.974217\n",
            "2024-10-31  229.250243\n",
            "2024-11-30  227.200960\n",
            "2024-12-31  248.722870\n",
            "2025-01-31  234.022475\n",
            "2025-02-28  238.134693\n",
            "2025-03-31  222.411198\n",
            "2025-04-30  200.920336\n",
            "2025-05-31  203.859314\n",
            "2025-06-30  200.657000\n",
            "2025-07-31  211.280909\n",
            "2025-08-31  211.862501\n"
          ]
        },
        {
          "output_type": "stream",
          "name": "stderr",
          "text": [
            "/tmp/ipython-input-3280554434.py:1: FutureWarning: 'M' is deprecated and will be removed in a future version, please use 'ME' instead.\n",
            "  montly_data = stock_data['Close'].resample('M').mean()\n"
          ]
        }
      ]
    },
    {
      "cell_type": "markdown",
      "source": [
        "2. Upsamling"
      ],
      "metadata": {
        "id": "v_4AOTCtF0u0"
      }
    },
    {
      "cell_type": "code",
      "source": [
        "hourly_data = stock_data['Close'].resample('H').interpolate(method='linear')\n",
        "print(\"Hourly Data\", hourly_data)"
      ],
      "metadata": {
        "colab": {
          "base_uri": "https://localhost:8080/"
        },
        "id": "gSW6aVDLFtVJ",
        "outputId": "23848bce-9797-4cbe-b759-f786da7a3482"
      },
      "execution_count": 5,
      "outputs": [
        {
          "output_type": "stream",
          "name": "stdout",
          "text": [
            "Hourly Data Ticker                     AAPL\n",
            "Date                           \n",
            "2023-01-03 00:00:00  123.470604\n",
            "2023-01-03 01:00:00  123.523667\n",
            "2023-01-03 02:00:00  123.576730\n",
            "2023-01-03 03:00:00  123.629793\n",
            "2023-01-03 04:00:00  123.682856\n",
            "...                         ...\n",
            "2025-08-07 20:00:00  227.709162\n",
            "2025-08-07 21:00:00  228.093121\n",
            "2025-08-07 22:00:00  228.477079\n",
            "2025-08-07 23:00:00  228.861037\n",
            "2025-08-08 00:00:00  229.244995\n",
            "\n",
            "[22753 rows x 1 columns]\n"
          ]
        },
        {
          "output_type": "stream",
          "name": "stderr",
          "text": [
            "/tmp/ipython-input-2091155116.py:1: FutureWarning: 'H' is deprecated and will be removed in a future version, please use 'h' instead.\n",
            "  hourly_data = stock_data['Close'].resample('H').interpolate(method='linear')\n"
          ]
        }
      ]
    },
    {
      "cell_type": "markdown",
      "source": [
        "### end_here!"
      ],
      "metadata": {
        "id": "LYQK-uwQGXEE"
      }
    }
  ],
  "metadata": {
    "colab": {
      "provenance": []
    },
    "kernelspec": {
      "display_name": "Python 3",
      "name": "python3"
    },
    "language_info": {
      "name": "python"
    }
  },
  "nbformat": 4,
  "nbformat_minor": 0
}